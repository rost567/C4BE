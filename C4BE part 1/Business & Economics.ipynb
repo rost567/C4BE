{
 "cells": [
  {
   "cell_type": "code",
   "execution_count": 1,
   "id": "46049c3c",
   "metadata": {},
   "outputs": [],
   "source": [
    "import numpy as np\n",
    "import matplotlib.pyplot as plt\n",
    "import numpy.random as rd\n",
    "import math\n",
    "import scipy.integrate as integrate"
   ]
  },
  {
   "cell_type": "markdown",
   "id": "b62c9049",
   "metadata": {},
   "source": [
    "# Stock price "
   ]
  },
  {
   "cell_type": "markdown",
   "id": "3971bbdc",
   "metadata": {},
   "source": [
    "Assuming a stock price follows a process $𝑆_𝑡 = 𝑆_{𝑡−1} * 𝑒^𝑟_𝑡$. Weekly returns $𝑟_𝑡$ are normally distributed with $𝑟_𝑡 ∼ 𝑁(0.005, 0.03^2)$ (all parameters per week; no further scaling required).  \n",
    "Using Monte Carlo Simulation to answer the following questions for $𝑇 = 13$ and $𝑇 = 52$ weeks (quarter / whole year):"
   ]
  },
  {
   "cell_type": "code",
   "execution_count": 2,
   "id": "64158468",
   "metadata": {},
   "outputs": [
    {
     "data": {
      "image/png": "[encoded data removed]",
      "text/plain": [
       "<Figure size 432x288 with 1 Axes>"
      ]
     },
     "metadata": {
      "needs_background": "light"
     },
     "output_type": "display_data"
    },
    {
     "name": "stdout",
     "output_type": "stream",
     "text": [
      "E_S_T for T=52 is: 132.72733539880963\n",
      "prob_below_90 with T=52 is: 0.04614\n"
     ]
    }
   ],
   "source": [
    "mu = 0.005 # mean daily return\n",
    "sig = 0.03 #std.d\n",
    "#T=13 T=52\n",
    "T=52\n",
    "nPath = 100000 \n",
    "S_0 = 100. \n",
    "r = rd.randn(T,nPath)*sig + mu\n",
    "#---------------------------------------------\n",
    "S = np.full((T+1,nPath),S_0)\n",
    "#---------------------------------------------\n",
    "for t in range(T):\n",
    "    S[t+1] = S[t]*np.exp(r[t])\n",
    "S_T = S[-1,:]\n",
    "#-------------------------------------------\n",
    "plt.hist(S_T),90\n",
    "plt.show()\n",
    "E_S_T=np.mean(S_T)  \n",
    "print('E_S_T for T=52 is:', E_S_T)\n",
    "\n",
    "prob_below_90 = np.mean(S_T<90)\n",
    "print('prob_below_90 with T=52 is:',prob_below_90)\n",
    "\n"
   ]
  },
  {
   "cell_type": "markdown",
   "id": "4ede5e25",
   "metadata": {},
   "source": [
    ">**a)** If $𝑆_0 = 100$, what is $𝐸(𝑆_𝑇)$?"
   ]
  },
  {
   "cell_type": "markdown",
   "id": "4abda1f5",
   "metadata": {},
   "source": [
    "        E_S_T for T=13 is: 106.71436763356196\n",
    "        E_S_T for T=52 is: 129.6998214055812\n",
    "    "
   ]
  },
  {
   "cell_type": "markdown",
   "id": "ebf311a3",
   "metadata": {},
   "source": [
    ">**b)** What is the probability that of $𝑆_𝑇<l90$?"
   ]
  },
  {
   "cell_type": "markdown",
   "id": "426dd760",
   "metadata": {},
   "source": [
    "         =>prob_below_90 with T=13 is: 0.05709\n",
    "         =>prob_below_90 with T=52 is: 0.0449\n",
    "     \n"
   ]
  },
  {
   "cell_type": "markdown",
   "id": "7bd3a1c6",
   "metadata": {},
   "source": [
    ">**c)** What is the probability of $100 \\le 𝑆_T \\le 130$?"
   ]
  },
  {
   "cell_type": "markdown",
   "id": "4ba1b3d2",
   "metadata": {},
   "source": [
    "        prob_less_100_T13 = 0.27289\n",
    "        prob_less_130_T13 = 0.96711\n",
    "        prob_less_100_T13 - prob_less_130_T13 = 0.69422\n",
    "\n",
    "        prob_less_100_T52 = 0.11449\n",
    "        prob_less_130_T52 = 0.50211\n",
    "        prob_less_100_T52 - prob_less_130_T52 = 0.38762\n",
    "        \n",
    "        =>prob_between_100_and_130 with T=13 is: 0.69422\n",
    "        =>prob_between_100_and_130 with T=52 is: 0.38762\n"
   ]
  },
  {
   "cell_type": "markdown",
   "id": "756f8fd7",
   "metadata": {},
   "source": [
    "# Wealth distribution"
   ]
  },
  {
   "cell_type": "markdown",
   "id": "c063f574",
   "metadata": {},
   "source": [
    "The Lorenz curve represents the wealth or income distribution where, typically, the x-axis the cumulative fraction of the total population (from lowest to highest wealth and income, respectively), and the y-axis the cumulative share of total wealth and income, respectively.\n",
    "<br>The Gini coefficient<br>\n",
    "$ G = 2\\int^1_0(x-L(x))\\,d_x = \\frac{A}{A+B} $"
   ]
  },
  {
   "cell_type": "markdown",
   "id": "4566870d",
   "metadata": {},
   "source": [
    "measures inequality in that distribution, where $𝐺 = 0\\ (𝐺 = 1)$ indicates perfect equality (perfect inequality with the last household owning / earning everything).  <br>Hint/Sanity check: $𝐴 + 𝐵 = ...?$"
   ]
  },
  {
   "cell_type": "markdown",
   "id": "b566c97b",
   "metadata": {},
   "source": [
    ">**a)** Implementing a function $Gini(L)$ where the input argument L is a function for the Lorenz curve $𝐿(𝑥)$, and which returns the Gini coefficient and the areas 𝐴 and 𝐵."
   ]
  },
  {
   "cell_type": "code",
   "execution_count": 3,
   "id": "dbfc11be",
   "metadata": {},
   "outputs": [
    {
     "name": "stdout",
     "output_type": "stream",
     "text": [
      "Percents sum to 100: True\n",
      "[0, 0.0108, 0.0148, 0.044399999999999995, 0.15000000000000002, 0.78]\n",
      "[0.     0.0108 0.0256 0.07   0.22   1.    ]\n",
      "[0.  0.2 0.4 0.6 0.8 1. ]\n",
      "Area A+B: 0.41666666666666663\n",
      "Area B: 0.13773333333333332\n",
      "Area A: 0.2789333333333333\n",
      "Gini coefficient: 0.66944\n"
     ]
    }
   ],
   "source": [
    "gdp_decile_percents = [0.49, 0.59, 0.69, 0.79, 1.89, 2.55, 5.0, 10.0, 18.0, 60.0]\n",
    "print('Percents sum to 100:', sum(gdp_decile_percents) == 100)\n",
    "    \n",
    "gdp_decile_shares = [i/100 for i in gdp_decile_percents]\n",
    "    \n",
    "# Convert to quintile\n",
    "gdp_quintile_shares = [(gdp_decile_shares[i] + gdp_decile_shares[i+1]) for i in range(0, len(gdp_decile_shares), 2)]\n",
    "    \n",
    "# Insert 0 for the first value in the Lorenz curve\n",
    "gdp_quintile_shares.insert(0, 0)\n",
    "print(gdp_quintile_shares)\n",
    "    \n",
    "# Cumulative sum of shares (Lorenz curve values)\n",
    "shares_cumsum = np.cumsum(a=gdp_quintile_shares, axis=None)\n",
    "print(shares_cumsum)\n",
    "    \n",
    "# Perfect equality line\n",
    "pe_line = np.linspace(start=0.0, stop=1.0, num=len(shares_cumsum))\n",
    "print(pe_line)\n",
    "\n",
    "# lorenz area\n",
    "area_under_lorenz_B = np.trapz(y=shares_cumsum, dx=1/len(shares_cumsum))\n",
    "# perfect equality area\n",
    "area_under_pe_A_B = np.trapz(y=pe_line, dx=1/len(shares_cumsum))\n",
    "print('Area A+B:',area_under_pe_A_B)\n",
    "print('Area B:',area_under_lorenz_B)\n",
    "print('Area A:', area_under_pe_A_B - area_under_lorenz_B)\n",
    "    \n",
    "gini = (area_under_pe_A_B - area_under_lorenz_B) / area_under_pe_A_B\n",
    "print('Gini coefficient:', gini)"
   ]
  },
  {
   "cell_type": "markdown",
   "id": "044310dd",
   "metadata": {},
   "source": [
    "> **b)** Using this function Gini(L), find the Gini coefficient when $𝐿(𝑥) = 0.7 ⋅ 𝑥^{2.5} + 0.3 ⋅ 𝑥^{1.2}$\n"
   ]
  },
  {
   "cell_type": "code",
   "execution_count": 4,
   "id": "5ffb3211",
   "metadata": {},
   "outputs": [
    {
     "data": {
      "text/plain": [
       "0.16363636364694803"
      ]
     },
     "execution_count": 4,
     "metadata": {},
     "output_type": "execute_result"
    }
   ],
   "source": [
    "def f(x):\n",
    "    return x\n",
    "\n",
    "def G(x):\n",
    "    return 0.7*𝑥**2.5 + 0.3*𝑥**1.2\n",
    "integrate.quad(lambda x:f(x)-G(x),0,1)[0]\n"
   ]
  },
  {
   "cell_type": "markdown",
   "id": "0112b3d7",
   "metadata": {},
   "source": [
    "# Optimal combination of two assets"
   ]
  },
  {
   "cell_type": "markdown",
   "id": "c9967506",
   "metadata": {},
   "source": [
    "A financial investor wants to find the optimal combination of two assets. The annual return for both assets can be assumed to be normally distributed. Asset 𝐴 has an expected return of $𝑟_𝐴 = 0.05$ and a standard deviation of $𝜎_𝐴 = 0.2$; for 𝐵, the parameters are $𝑟_𝐵 = 0.1$ and $𝜎_𝐵 = 0.3$; both assets are perfectly uncorrelated. If investor uses a fraction of $𝑤_𝐴$ of their budget for asset 𝐴 (and the remaining $(1 − 𝑤_𝐴)$ for asset 𝐵), the resulting portfolio statistics are <br>\n",
    "            $𝑟_𝑃 = 𝑤_𝐴 ⋅ 𝑟𝐴 + (1 − 𝑤_𝐴) ⋅ 𝑟_B$ <br>\n",
    "            $𝜎_𝑃 = \\sqrt{𝑤_A^2.𝜎_A^2 + (1-𝑤_A)^2.𝜎_B^2}$\n",
    "<br>\n",
    "The investor considers two criteria (objective functions, both to be maximized):<br>\n",
    ">utility-based:  $𝑈_𝑝 = (1 − 𝛾) ⋅ 𝑟_𝑃 − 𝛾 ⋅ 𝜎_P$<br>\n",
    ">Share Ratio: $𝑆𝑅_𝑝 = (𝑟_𝑃 − 𝑟_𝑓)/𝜎_P$\n",
    "\n",
    "where $𝑟_𝑓$ is the riskfree rate (assume: $𝑟_𝑓 = 0$) and 𝛾 is a parameter of risk aversion (assume: $𝛾 = 0.7$)."
   ]
  },
  {
   "cell_type": "markdown",
   "id": "327296a0",
   "metadata": {},
   "source": [
    ">**a)** Implementing functions util(wA) and SR(wA) that return $𝑈_𝑝$ and $𝑆𝑅_𝑃$, respectively, and take $𝑤_𝐴$ as argument. (The risk aversion parameter 𝛾 and the assets’ parameters for 𝑟 and 𝜎 can be provided, e.g., as arguments\n",
    "with default values or as global variables, but calling the functions with just one argument, $𝑤_𝐴$, should return the correct values)."
   ]
  },
  {
   "cell_type": "code",
   "execution_count": 5,
   "id": "4a7bca97",
   "metadata": {},
   "outputs": [],
   "source": [
    "rA=0.05 #expexted return A\n",
    "rB=0.1 #expected return B\n",
    "\n",
    "def rp(s): return s*rA+(1-s)*rB"
   ]
  },
  {
   "cell_type": "code",
   "execution_count": 6,
   "id": "04807658",
   "metadata": {},
   "outputs": [],
   "source": [
    "stdA = 0.2 #omega \n",
    "stdB = 0.3 #omega \n",
    "def std_p(ss): return np.sqrt(ss**2*stdA**2 + ((1-ss)**2)*stdB**2)\n",
    "        "
   ]
  },
  {
   "cell_type": "markdown",
   "id": "f580ffd7",
   "metadata": {},
   "source": [
    ">**b)** Assuming that weights have to be non-negative, ie., $0 \\le 𝑤_𝐴 \\le 1$. Visualize the objective functions as functions of $𝑤_𝐴$.\n"
   ]
  },
  {
   "cell_type": "code",
   "execution_count": 7,
   "id": "f20289d6",
   "metadata": {},
   "outputs": [],
   "source": [
    "risk_aversion = 0.7 #\n",
    "risk_free = 0\n",
    "def util(wA):\n",
    "    results_util = []\n",
    "    for i in wA:\n",
    "        final = (1-risk_aversion)*rp(i) - risk_aversion*std_p(i)\n",
    "        results_util.append(final)\n",
    "    return results_util\n"
   ]
  },
  {
   "cell_type": "code",
   "execution_count": 8,
   "id": "5e6036df",
   "metadata": {},
   "outputs": [],
   "source": [
    "\n",
    "def SR(wA):\n",
    "    results_SR=[]\n",
    "    for i in wA:\n",
    "        final2 = (rp(i)-risk_free)/std_p(i)\n",
    "        results_SR.append(final2)\n",
    "    return results_SR"
   ]
  },
  {
   "cell_type": "code",
   "execution_count": 9,
   "id": "008ab24f",
   "metadata": {
    "scrolled": true
   },
   "outputs": [
    {
     "data": {
      "text/plain": [
       "array([0.        , 0.02040816, 0.04081633, 0.06122449, 0.08163265,\n",
       "       0.10204082, 0.12244898, 0.14285714, 0.16326531, 0.18367347,\n",
       "       0.20408163, 0.2244898 , 0.24489796, 0.26530612, 0.28571429,\n",
       "       0.30612245, 0.32653061, 0.34693878, 0.36734694, 0.3877551 ,\n",
       "       0.40816327, 0.42857143, 0.44897959, 0.46938776, 0.48979592,\n",
       "       0.51020408, 0.53061224, 0.55102041, 0.57142857, 0.59183673,\n",
       "       0.6122449 , 0.63265306, 0.65306122, 0.67346939, 0.69387755,\n",
       "       0.71428571, 0.73469388, 0.75510204, 0.7755102 , 0.79591837,\n",
       "       0.81632653, 0.83673469, 0.85714286, 0.87755102, 0.89795918,\n",
       "       0.91836735, 0.93877551, 0.95918367, 0.97959184, 1.        ])"
      ]
     },
     "execution_count": 9,
     "metadata": {},
     "output_type": "execute_result"
    }
   ],
   "source": [
    "n_points = 10000\n",
    "wA = np.linspace(0.0,1.0)\n",
    "wA"
   ]
  },
  {
   "cell_type": "code",
   "execution_count": 10,
   "id": "b3c63a67",
   "metadata": {},
   "outputs": [
    {
     "data": {
      "text/plain": [
       "[-0.18,\n",
       " -0.1760402484763475,\n",
       " -0.1721218537233936,\n",
       " -0.1682474719164474,\n",
       " -0.16441996022915176,\n",
       " -0.16064239216915982,\n",
       " -0.1569180736797848,\n",
       " -0.15325055990560546,\n",
       " -0.14964367246855204,\n",
       " -0.14610151703644503,\n",
       " -0.1426285008861861,\n",
       " -0.1392293500667754,\n",
       " -0.13590912565130678,\n",
       " -0.13267323843100687,\n",
       " -0.12952746124831452,\n",
       " -0.12647793799185975,\n",
       " -0.12353118808856496,\n",
       " -0.12069410513521324,\n",
       " -0.11797394812672972,\n",
       " -0.11537832357998151,\n",
       " -0.11291515674560976,\n",
       " -0.11059265007855879,\n",
       " -0.10841922723865086,\n",
       " -0.10640346115706514,\n",
       " -0.10455398517256016,\n",
       " -0.10287938694341052,\n",
       " -0.10138808578942853,\n",
       " -0.10008819529575094,\n",
       " -0.09898737435935152,\n",
       " -0.09809267127769425,\n",
       " -0.09741036681910537,\n",
       " -0.09694582329605,\n",
       " -0.09670334729628843,\n",
       " -0.09668607374834462,\n",
       " -0.09689587830471291,\n",
       " -0.09733332361119172,\n",
       " -0.09799764299717541,\n",
       " -0.09888676267762193,\n",
       " -0.09999736098395226,\n",
       " -0.10132496074321082,\n",
       " -0.10286404897525048,\n",
       " -0.10460821676984229,\n",
       " -0.10655031162567266,\n",
       " -0.108682594657487,\n",
       " -0.1109968957920838,\n",
       " -0.11348476120769496,\n",
       " -0.11613758863462263,\n",
       " -0.11894674755137359,\n",
       " -0.12190368263886715,\n",
       " -0.12499999999999999]"
      ]
     },
     "execution_count": 10,
     "metadata": {},
     "output_type": "execute_result"
    }
   ],
   "source": [
    "util(wA)"
   ]
  },
  {
   "cell_type": "code",
   "execution_count": 11,
   "id": "f7c097db",
   "metadata": {},
   "outputs": [
    {
     "data": {
      "text/plain": [
       "[0.33333333333333337,\n",
       " 0.3367730751508747,\n",
       " 0.3402886292674572,\n",
       " 0.3438780255207633,\n",
       " 0.34753846450070425,\n",
       " 0.3512661741916642,\n",
       " 0.35505624756307513,\n",
       " 0.3589024597432513,\n",
       " 0.36279706373848125,\n",
       " 0.36673056418866035,\n",
       " 0.3706914694448733,\n",
       " 0.37466602338632027,\n",
       " 0.3786379199451738,\n",
       " 0.3825880053630144,\n",
       " 0.38649397584049855,\n",
       " 0.3903300815216444,\n",
       " 0.3940668516924145,\n",
       " 0.3976708606148844,\n",
       " 0.40110455839745796,\n",
       " 0.40432619639721934,\n",
       " 0.40728988134063576,\n",
       " 0.40994579587496144,\n",
       " 0.4122406246210728,\n",
       " 0.41411822278067456,\n",
       " 0.41552055765967894,\n",
       " 0.4163889409316013,\n",
       " 0.416665550344564,\n",
       " 0.4162952139654227,\n",
       " 0.4152273992686999,\n",
       " 0.41341831622823944,\n",
       " 0.41083301237016784,\n",
       " 0.40744731390631045,\n",
       " 0.4032494562130131,\n",
       " 0.39824125363414586,\n",
       " 0.3924386850477835,\n",
       " 0.3858718165706449,\n",
       " 0.3785840411477778,\n",
       " 0.37063067846955117,\n",
       " 0.3620770380738941,\n",
       " 0.3529960946537213,\n",
       " 0.3434659511328597,\n",
       " 0.33356726950897214,\n",
       " 0.3233808333817773,\n",
       " 0.31298537435411494,\n",
       " 0.30245575378327966,\n",
       " 0.2918615485343313,\n",
       " 0.28126605018893125,\n",
       " 0.27072565545768595,\n",
       " 0.2602896031476768,\n",
       " 0.25]"
      ]
     },
     "execution_count": 11,
     "metadata": {},
     "output_type": "execute_result"
    }
   ],
   "source": [
    "SR(wA)"
   ]
  },
  {
   "cell_type": "code",
   "execution_count": 12,
   "id": "85905dcd",
   "metadata": {},
   "outputs": [
    {
     "data": {
      "image/png": "[encoded data removed]",
      "text/plain": [
       "<Figure size 432x288 with 1 Axes>"
      ]
     },
     "metadata": {
      "needs_background": "light"
     },
     "output_type": "display_data"
    }
   ],
   "source": [
    "plt.plot(wA, util(wA), label='util')\n",
    "plt.plot(wA, SR(wA), label='SR')\n",
    "plt.xlabel('Criteria')\n",
    "plt.ylabel('wA')\n",
    "plt.legend(loc=\"upper right\")\n",
    "plt.show()"
   ]
  },
  {
   "cell_type": "markdown",
   "id": "cf3ddabd",
   "metadata": {},
   "source": [
    ">**d)** Now, assuming that weights can also be negative within certain limits; specifically “short-selling” is allowed up to $200%$, $−2.0 \\le 𝑤_𝐴 \\le 3.0.$ <br>\n",
    "Visualizing SR again for these new bounds. Which of the numerical methods discussed in class can be used to reliably find (ie., are guaranteed to converge to) the maxima?"
   ]
  },
  {
   "cell_type": "code",
   "execution_count": 14,
   "id": "8295d55c",
   "metadata": {
    "scrolled": true
   },
   "outputs": [
    {
     "data": {
      "text/plain": [
       "[0.20306923302672383,\n",
       " 0.20544904443602652,\n",
       " 0.20800789083725896,\n",
       " 0.2107662632412861,\n",
       " 0.21374780530706264,\n",
       " 0.2169799182398392,\n",
       " 0.22049450188099134,\n",
       " 0.22432886545925027,\n",
       " 0.228526849195255,\n",
       " 0.23314020628390367,\n",
       " 0.23823030223144467,\n",
       " 0.24387019143868327,\n",
       " 0.2501471210070688,\n",
       " 0.25716547088971853,\n",
       " 0.2650500288241922,\n",
       " 0.27394923504895724,\n",
       " 0.28403743934499315,\n",
       " 0.2955139181914497,\n",
       " 0.30859362176203414,\n",
       " 0.32347877768513705,\n",
       " 0.3402886292674572,\n",
       " 0.3589024597432513,\n",
       " 0.37863791994517393,\n",
       " 0.39767086061488444,\n",
       " 0.4122406246210728,\n",
       " 0.4162952139654227,\n",
       " 0.40324945621301317,\n",
       " 0.370630678469551,\n",
       " 0.32338083338177726,\n",
       " 0.27072565545768595,\n",
       " 0.2203303683803344,\n",
       " 0.17596728589673988,\n",
       " 0.13847382958361693,\n",
       " 0.10728763329994333,\n",
       " 0.08141394703764042,\n",
       " 0.05985651633507163,\n",
       " 0.04176136698049357,\n",
       " 0.026439863291314064,\n",
       " 0.013350221331816566,\n",
       " 0.00206951089661199,\n",
       " -0.007732620109346834,\n",
       " -0.01631548906745852,\n",
       " -0.023884108859621576,\n",
       " -0.030601884333863013,\n",
       " -0.03660016758340102,\n",
       " -0.041985444107881964,\n",
       " -0.04684475591105697,\n",
       " -0.05124981762712405,\n",
       " -0.05526016249267821,\n",
       " -0.05892556509887894]"
      ]
     },
     "execution_count": 14,
     "metadata": {},
     "output_type": "execute_result"
    }
   ],
   "source": [
    "wA2 = np.linspace(-2.0,3.0)\n",
    "util(wA2)\n",
    "SR(wA2)\n"
   ]
  },
  {
   "cell_type": "code",
   "execution_count": 15,
   "id": "ea64bd01",
   "metadata": {},
   "outputs": [
    {
     "data": {
      "image/png": "[encoded data removed]",
      "text/plain": [
       "<Figure size 432x288 with 1 Axes>"
      ]
     },
     "metadata": {
      "needs_background": "light"
     },
     "output_type": "display_data"
    }
   ],
   "source": [
    "plt.plot(wA2, util(wA2), label='util')\n",
    "plt.plot(wA2, SR(wA2), label='SR')\n",
    "plt.xlabel('Criteria')\n",
    "plt.ylabel('wA2')\n",
    "plt.legend(loc=\"upper right\")\n",
    "plt.show()"
   ]
  },
  {
   "cell_type": "markdown",
   "id": "bfab0c22",
   "metadata": {},
   "source": [
    "Using newton:"
   ]
  },
  {
   "cell_type": "code",
   "execution_count": 16,
   "id": "de3016f1",
   "metadata": {},
   "outputs": [],
   "source": [
    "def newton2 (num,root):\n",
    "    for iter in range(10):\n",
    "        if iter==0:\n",
    "            x=1\n",
    "        f = x**root - num\n",
    "        g = root*(x**(root-1))\n",
    "        x = x-(f/g)\n",
    "    return x\n",
    "#print(newton(9,3))\n",
    "def std_p2(ss): return (newton2((ss**2*stdA**2 + ((1-ss)**2)*stdB**2),2))"
   ]
  },
  {
   "cell_type": "code",
   "execution_count": 17,
   "id": "707f7f68",
   "metadata": {},
   "outputs": [],
   "source": [
    "risk_aversion = 0.7 #\n",
    "risk_free = 0\n",
    "def util2(wA):\n",
    "    results_util = []\n",
    "    for i in wA:\n",
    "        final = (1-risk_aversion)*rp(i) - risk_aversion*std_p2(i)\n",
    "        results_util.append(final)\n",
    "    return results_util\n",
    "\n",
    "\n",
    "def SR2(wA):\n",
    "    results_SR=[]\n",
    "    for i in wA:\n",
    "        final2 = (rp(i)-risk_free)/std_p2(i)\n",
    "        results_SR.append(final2)\n",
    "    return results_SR"
   ]
  },
  {
   "cell_type": "code",
   "execution_count": 18,
   "id": "d1e7177d",
   "metadata": {},
   "outputs": [
    {
     "data": {
      "text/plain": [
       "[0.20306923302672383,\n",
       " 0.20544904443602652,\n",
       " 0.20800789083725896,\n",
       " 0.2107662632412861,\n",
       " 0.21374780530706264,\n",
       " 0.2169799182398392,\n",
       " 0.22049450188099134,\n",
       " 0.22432886545925027,\n",
       " 0.228526849195255,\n",
       " 0.23314020628390367,\n",
       " 0.23823030223144462,\n",
       " 0.24387019143868327,\n",
       " 0.2501471210070688,\n",
       " 0.25716547088971853,\n",
       " 0.26505002882419215,\n",
       " 0.27394923504895724,\n",
       " 0.28403743934499315,\n",
       " 0.2955139181914497,\n",
       " 0.30859362176203414,\n",
       " 0.32347877768513705,\n",
       " 0.3402886292674572,\n",
       " 0.3589024597432513,\n",
       " 0.37863791994517393,\n",
       " 0.39767086061488444,\n",
       " 0.4122406246210728,\n",
       " 0.4162952139654227,\n",
       " 0.40324945621301317,\n",
       " 0.370630678469551,\n",
       " 0.32338083338177726,\n",
       " 0.27072565545768595,\n",
       " 0.22033036838033437,\n",
       " 0.17596728589673988,\n",
       " 0.13847382958361693,\n",
       " 0.10728763329994333,\n",
       " 0.08141394703764042,\n",
       " 0.05985651633507163,\n",
       " 0.04176136698049357,\n",
       " 0.026439863291314064,\n",
       " 0.013350221331816566,\n",
       " 0.00206951089661199,\n",
       " -0.007732620109346834,\n",
       " -0.01631548906745852,\n",
       " -0.023884108859621573,\n",
       " -0.030601884333863013,\n",
       " -0.03660016758340102,\n",
       " -0.041985444107881964,\n",
       " -0.04684475591105697,\n",
       " -0.05124981762712406,\n",
       " -0.05526016249267822,\n",
       " -0.05892556509887894]"
      ]
     },
     "execution_count": 18,
     "metadata": {},
     "output_type": "execute_result"
    }
   ],
   "source": [
    "wA2 = np.linspace(-2.0,3.0)\n",
    "util2(wA2)\n",
    "SR2(wA2)"
   ]
  },
  {
   "cell_type": "code",
   "execution_count": 19,
   "id": "14947217",
   "metadata": {},
   "outputs": [
    {
     "data": {
      "image/png": "[encoded data removed]",
      "text/plain": [
       "<Figure size 432x288 with 1 Axes>"
      ]
     },
     "metadata": {
      "needs_background": "light"
     },
     "output_type": "display_data"
    }
   ],
   "source": [
    "plt.plot(wA2, util(wA2), label='util-newton method')\n",
    "plt.plot(wA2, SR(wA2), label='SR-util method')\n",
    "plt.xlabel('Criteria')\n",
    "plt.ylabel('wA2')\n",
    "plt.legend(loc=\"upper right\")\n",
    "plt.show()"
   ]
  },
  {
   "cell_type": "code",
   "execution_count": null,
   "id": "c920e61f",
   "metadata": {},
   "outputs": [],
   "source": []
  }
 ],
 "metadata": {
  "hide_input": false,
  "kernelspec": {
   "display_name": "Python 3 (ipykernel)",
   "language": "python",
   "name": "python3"
  },
  "language_info": {
   "codemirror_mode": {
    "name": "ipython",
    "version": 3
   },
   "file_extension": ".py",
   "mimetype": "text/x-python",
   "name": "python",
   "nbconvert_exporter": "python",
   "pygments_lexer": "ipython3",
   "version": "3.10.9"
  },
  "toc": {
   "base_numbering": 1,
   "nav_menu": {},
   "number_sections": true,
   "sideBar": true,
   "skip_h1_title": false,
   "title_cell": "Table of Contents",
   "title_sidebar": "Contents",
   "toc_cell": false,
   "toc_position": {},
   "toc_section_display": true,
   "toc_window_display": false
  },
  "varInspector": {
   "cols": {
    "lenName": 16,
    "lenType": 16,
    "lenVar": 40
   },
   "kernels_config": {
    "python": {
     "delete_cmd_postfix": "",
     "delete_cmd_prefix": "del ",
     "library": "var_list.py",
     "varRefreshCmd": "print(var_dic_list())"
    },
    "r": {
     "delete_cmd_postfix": ") ",
     "delete_cmd_prefix": "rm(",
     "library": "var_list.r",
     "varRefreshCmd": "cat(var_dic_list()) "
    }
   },
   "types_to_exclude": [
    "module",
    "function",
    "builtin_function_or_method",
    "instance",
    "_Feature"
   ],
   "window_display": false
  }
 },
 "nbformat": 4,
 "nbformat_minor": 5
}
